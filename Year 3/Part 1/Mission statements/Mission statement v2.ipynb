{
 "cells": [
  {
   "cell_type": "markdown",
   "metadata": {},
   "source": [
    "Ranking based on relevance to your project comparing machine learning models for forest growth prediction and biomass estimation:\n",
    "\n",
    "1. **Potential for Using Machine Learning**  \n",
    "   - **Relevance**: Focuses directly on applying machine learning in forestry. It discusses algorithms like XGBoost and their potential for use in various forestry-related tasks, which aligns perfectly with your comparison of machine learning models.\n",
    "\n",
    "2. **Smart Forest Inventory**  \n",
    "   - **Relevance**: Discusses modern forest inventory techniques using advanced technology like airborne laser scanning, which is relevant for improving forest growth prediction and biomass estimation\n",
    "\n",
    "3. **Updating Biomass Maps**  \n",
    "   - **Relevance**: Focuses on using machine learning and remote sensing to update biomass maps. This is directly applicable to biomass estimation in your research.\n",
    "\n",
    "4. **Bayesian Calibration, Comparison, and Averaging of Six Forest Models**  \n",
    "   - **Relevance**: Provides insights into how different models (including machine learning models) can be compared and calibrated for forest growth prediction, which is useful for evaluating your chosen algorithms\n",
    "\n",
    "5. **Radial Basis Function Neural Networks in Tracking and Extraction of Stochastic Process in Forestry**  \n",
    "   - **Relevance**: Discusses using neural networks in forestry, which offers an in-depth look at one of the models you are considering for your report【118†source】.\n",
    "\n",
    "6. **Forestry Digital Twin With Machine Learning in Landsat 7 Data**  \n",
    "   - **Relevance**: Talks about the use of remote sensing and machine learning for digital twin models of forests. This is relevant for understanding the integration of remote data in forest growth modeling\n",
    "\n",
    "7. **Machine Learning Assisted Remote Forestry Health Assessment**  \n",
    "   - **Relevance**: Focuses on machine learning applications in assessing forest health, which may have some overlap with growth prediction and biomass estimation but is not the primary focus.\n",
    "\n",
    "8. **Using Machine Learning to Identify Incentives in Forestry Policy**  \n",
    "   - **Relevance**: More focused on policy and economics than on the technical aspects of forest growth or biomass estimation, but it still involves machine learning.\n",
    "\n",
    "9. **Statistical Methods and Applications in Forestry**  \n",
    "   - **Relevance**: This provides foundational statistical methods which are essential in validating the machine learning models but is less focused on advanced machine learning techniques.\n",
    "\n",
    "10. **Recommendations of the Taskforce on Nature-related Financial Disclosures**  \n",
    "    - **Relevance**: Similar to the above file, this document is focused on financial disclosures related to nature, which is not relevant for your technical comparison of algorithms."
   ]
  },
  {
   "cell_type": "markdown",
   "metadata": {},
   "source": [
    "### Key Steps:\n",
    "1. **Data Integration**: \n",
    "   - Merge **Riksskogstaxeringen** field data with **LiDAR** data to enrich your dataset, ensuring both are aligned for effective model training and predictions.\n",
    "\n",
    "2. **Model Selection**: \n",
    "   - Use **Random Forests** as your primary machine learning model for predicting forest growth over different time horizons. Random Forests will help manage complex, non-linear relationships between different forest variables while avoiding overfitting.\n",
    "\n",
    "3. **Time Horizon Analysis**: \n",
    "   - Compare the model’s predictions across **short-term, medium-term, and long-term** growth scenarios. This comparative approach will allow you to evaluate the model’s performance and its utility for decision-making in forestry.\n",
    "\n",
    "4. **Evaluation & Reporting**: \n",
    "   - Analyze the accuracy of your model in predicting forest growth based on different timeframes, discussing both successes and limitations. This will help determine whether your approach is suitable for a KEX project.\n",
    "\n",
    "5. **Value Proposition**:\n",
    "   - Emphasize how this project can support forest management by providing accurate growth predictions, helping with investment decisions, and contributing to sustainable forest practices.\n",
    "\n",
    "### Immediate Next Steps:\n",
    "- Gather necessary **Riksskogstaxeringen** and **LiDAR** data.\n",
    "- Begin building the model using **Random Forests**.\n",
    "- Plan the comparative analysis of predictions across multiple time horizons."
   ]
  },
  {
   "cell_type": "markdown",
   "metadata": {},
   "source": [
    "---\n",
    "\n",
    "### 1. **Use of LiDAR in Forestry**:\n",
    "   - **Search Terms**: \"LiDAR in forest growth prediction,\" \"LiDAR for forest inventory,\" \"LiDAR and forest biomass estimation.\"\n",
    "   - **Why**: Since LiDAR is essential to your project, it’s important to explore how it has been successfully integrated with field data for similar predictive models in forestry.\n",
    "\n",
    "### 2. **Riksskogstaxeringen and Machine Learning**:\n",
    "   - **Search Terms**: \"Riksskogstaxeringen data in machine learning,\" \"Swedish national forest inventory with machine learning,\" \"Riksskogstaxeringen for forest growth prediction.\"\n",
    "   - **Why**: Finding studies that use Riksskogstaxeringen as a data source will provide insights into best practices for using this dataset in conjunction with machine learning techniques.\n",
    "\n",
    "### 3. **Random Forests in Forestry Applications**:\n",
    "   - **Search Terms**: \"Random Forests for forest growth prediction,\" \"Random Forests in forestry machine learning,\" \"Random Forests and biomass estimation.\"\n",
    "   - **Why**: Random Forests is your primary algorithm, and understanding how it has been applied to forestry will help refine your model and approach.\n",
    "\n",
    "### 4. **Forest Growth Prediction Over Time Horizons**:\n",
    "   - **Search Terms**: \"Forest growth prediction time horizons,\" \"Machine learning for short-term and long-term forest growth,\" \"Predicting forest growth using machine learning.\"\n",
    "   - **Why**: Since your project involves analyzing growth predictions over different time periods, it’s crucial to find studies that focus on how to assess growth over time.\n",
    "\n",
    "### 5. **Machine Learning for Biomass and Growth Estimation**:\n",
    "   - **Search Terms**: \"Machine learning for forest biomass estimation,\" \"Machine learning for forest management decisions,\" \"AI for biomass and forest growth.\"\n",
    "   - **Why**: This helps you understand how machine learning models like Random Forests, SVMs, or other methods have been used for forest growth and biomass estimation.\n",
    "\n",
    "### 6. **Combining Field Data and Remote Sensing in Forestry**:\n",
    "   - **Search Terms**: \"Combining LiDAR and field data for forest growth,\" \"Remote sensing and forest inventory,\" \"Field data and remote sensing for forest management.\"\n",
    "   - **Why**: Studies focusing on how remote sensing (LiDAR) is integrated with field data (like Riksskogstaxeringen) will provide valuable methodologies for your project."
   ]
  },
  {
   "cell_type": "markdown",
   "metadata": {},
   "source": [
    "- Forests is an international, peer-reviewed, open access journal on forestry and forest ecology published monthly online by MDPI.\n",
    "\n",
    "- Forest Service U.S. DEPARTMENT OF AGRICULTURE\n",
    "\n",
    "- SLU publication database (SLUpub)\n",
    "    https://publications.slu.se/?file=search/main&lang=en"
   ]
  }
 ],
 "metadata": {
  "language_info": {
   "name": "python"
  }
 },
 "nbformat": 4,
 "nbformat_minor": 2
}
