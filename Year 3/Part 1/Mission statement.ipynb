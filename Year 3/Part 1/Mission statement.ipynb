{
 "cells": [
  {
   "cell_type": "markdown",
   "metadata": {},
   "source": [
    "After attending the IUFRO summit, I realized there are significant opportunities for mathematicians in the forestry sector. \n",
    "My plan is to conduct a literature study and then pitch our findings and ideas to the biggest Swedish forestry companies, such as:\n",
    " **Sveaskog, Södra, Holmen and Stora Enso**.\n",
    "\n",
    "\n",
    "### Insutry Contact:\n",
    "I am in ongoing communication with **Mistra Digital Forest** and **Skogsindustrierna**, exploring the possibility of collaborating on a bachelor's thesis with one of these companies. Here are my main contacts:\n",
    "\n",
    "- Sverker Danielsson -> Programchef Mistra Digital Forest: \n",
    "    https://www.linkedin.com/in/sverker-danielsson-9013271/ \n",
    "\n",
    "- Caroline Stejmar -> Project Manager at Skogsindustrierna:\n",
    "    https://www.linkedin.com/in/caroline-stejmar-a39b3a15b/\n",
    "\n",
    "- Sara Sjöberg -> Skoglig Analytiker at Sveaskog:\n",
    "    https://www.linkedin.com/in/sara-sj%C3%B6berg-b899b61b8/\n",
    "\n",
    "- Sarah Söder -> People & Culture Partner at Stora Enso\n",
    "    https://www.linkedin.com/in/sarah-s%C3%B6der/\n",
    "\n",
    "### KTH Approval:\n",
    "I have already spoken with both Cecilia and Joakim, and we have received positive feedback—they confirmed that if we put forward strong ideas, there is a good chance of securing collaboration for a thesis project.\n",
    "\n",
    "### Potential handledare:\n",
    "Additionally, I am in talks with the SF1930 group about having them serve as our academic advisors at KTH for this project.\n",
    "\n",
    "- Mathias Müller -> Doctoral Student in Probability, Mathematical Physics, and Statistics\n",
    "    https://www.kth.se/profile/matmul\n",
    "\n",
    "- Liam Solus -> Assistant Professor of Combinatorics and Probability in Artificial Intelligence\n",
    "    https://people.kth.se/~solus/\n",
    "\n",
    "### Main Goal:\n",
    "The main goal is to complete this literature study assignment as outlined in the Report Assignment Instructions, but a valuable side product of this work will be the development of three strong project ideas that we can pitch to Swedish forestry industry.\n",
    "\n",
    "### Swedish Forest Industry Companies of Interest:\n",
    "\n",
    "- https://www.mistradigitalforest.se/\n",
    "- https://www.skogsindustrierna.se/\n",
    "- https://www.sveaskog.se/\n",
    "- https://www.storaenso.com/sv-se/"
   ]
  },
  {
   "cell_type": "markdown",
   "metadata": {},
   "source": [
    "## Final Ranking for Likelihood of Acceptance:\n",
    "1. Risk Management in Forestry Investments\n",
    "2. Optimization of Resource Allocation in Forest Management\n",
    "3. Valuation of Forest Ecosystem Services\n",
    "4. Statistical Modeling of Biodiversity and Forest Health\n",
    "5. Carbon Markets and Digital Forestry\n",
    "\n",
    "---"
   ]
  },
  {
   "cell_type": "markdown",
   "metadata": {},
   "source": [
    "## 1. Risk Management in Forestry Investments\n",
    "### What it is:\n",
    "Statistical models to predict risks in forestry investments, such as those caused by climate change, pests, or natural disasters. We’ll develop tools that help investors and forest managers understand the financial risks associated with their forest operations and make better-informed decisions.\n",
    "\n",
    "### What to look for:\n",
    "\n",
    "- Data related to climate change, historical forestry damage (e.g., storms, pest infestations), and economic losses.\n",
    "- Risk assessment models from fields like insurance or finance that could be adapted to forestry.\n",
    "- Stakeholder needs: Are forestry companies or investors looking for better risk management tools?\n",
    "How it looks in practice:\n",
    "\n",
    "### Vision:\n",
    "Imagine a statistical tool that, based on data, predicts the likelihood of a pest outbreak affecting a specific region over the next 5 years. We’ll work on integrating that data with financial models, which would show the potential economic loss if the risk isn’t mitigated.\n",
    "\n",
    "### Connection to Sweden and Mistra Digital Forest:\n",
    "Sweden's forestry industry is highly vulnerable to climate change-related risks like storm damage and pest infestations. This project aligns with national efforts to create decision support systems that include risk management and strategic planning.\n",
    "\n",
    "### Keywords for Research:\n",
    "{Forestry risk management, Climate change impact on forests, Pest infestations in forestry, Forest economics, Insurance models in forestry, Natural disaster risk in forestry}\n",
    "\n",
    "---"
   ]
  },
  {
   "cell_type": "markdown",
   "metadata": {},
   "source": [
    "## 2. Optimization of Resource Allocation in Forest Management\n",
    "### What it is:\n",
    "This project is about applying mathematical optimization techniques to forestry operations, aiming to improve the allocation of resources such as labor, machinery, and harvesting schedules. The goal is to enhance operational efficiency while ensuring that sustainability standards are met.\n",
    "\n",
    "### What to look for:\n",
    "\n",
    "- Data on forest growth, machinery capabilities, labor costs, and environmental factors.\n",
    "- Optimization models like linear programming or dynamic programming that could streamline forest operations.\n",
    "- Potential areas in current forestry practices that could benefit from optimization (e.g., inefficient scheduling of machinery).\n",
    "\n",
    "### Vision:\n",
    "We create a model that suggests the best schedule for harvesting trees, considering growth rates, weather conditions, and machinery availability. This results in more efficient use of resources, reduced costs, and better forest health.\n",
    "\n",
    "### Connection to Sweden and Mistra Digital Forest:\n",
    "Sweden's forestry sector is a key part of the economy, and increasing efficiency is vital for maintaining competitiveness. This project aligns with efforts to use digital tools to optimize forest operations and resource allocation.\n",
    "\n",
    "### Keywords for Research:\n",
    "{Resource allocation in forestry, Optimization in forest management, Linear programming in forestry, Dynamic programming in resource management, Forest operations efficiency}\n",
    "\n",
    "---"
   ]
  },
  {
   "cell_type": "markdown",
   "metadata": {},
   "source": [
    "## 3. Valuation of Forest Ecosystem Services\n",
    "\n",
    "### What it is:\n",
    "This project focuses on estimating the economic value of the services forests provide beyond timber, like carbon sequestration, biodiversity, or water regulation. The goal is to provide tools that allow policymakers to understand the financial benefits of maintaining healthy forests.\n",
    "\n",
    "### What to look for:\n",
    "\n",
    "Data on the benefits forests provide (e.g., how much carbon they sequester, biodiversity levels, water filtration).\n",
    "Economic models that have been used in environmental sciences to value ecosystem services.\n",
    "Existing policies or markets where ecosystem services are monetized (e.g., carbon markets, conservation easements).\n",
    "### Vision\n",
    "We’ll develop a model that estimates how much money a forest saves through water purification or carbon sequestration. Forest owners can use these estimates to secure funding or generate income through ecosystem service markets.\n",
    "\n",
    "### Connection to Sweden and Mistra Digital Forest:\n",
    "Sweden is committed to transitioning to a bioeconomy, where sustainable forestry plays a key role. This project aligns with Sweden’s climate goals, as forests provide essential services for carbon storage and biodiversity conservation.\n",
    "\n",
    "### Keywords for Research:\n",
    "{Ecosystem service valuation, Carbon sequestration in forests, Forest biodiversity economics, Economic value of water regulation, Ecosystem markets and payments}\n",
    "\n",
    "---"
   ]
  },
  {
   "cell_type": "markdown",
   "metadata": {},
   "source": [
    "## 4. Statistical Modeling of Biodiversity and Forest Health\n",
    "\n",
    "### What it is:\n",
    "This project involves using statistical models to assess the impacts of forest management on biodiversity and overall forest health. By analyzing factors like species diversity and forest growth, the project would help predict long-term ecological changes due to various management practices.\n",
    "\n",
    "### What to look for:\n",
    "\n",
    "Biodiversity metrics and forest health data (e.g., species counts, soil composition, growth rates).\n",
    "Statistical models that predict ecological outcomes (e.g., regression analysis, time-series models).\n",
    "The impact of various forestry practices on biodiversity and ecosystem health (e.g., logging vs. conservation).\n",
    "\n",
    "### Vision\n",
    "We might create a statistical model that shows how logging a certain percentage of a forest affects species diversity over time. This would guide forest managers on how to maintain biodiversity while still benefiting from timber production.\n",
    "\n",
    "### Connection to Sweden and Mistra Digital Forest:\n",
    "Biodiversity preservation is a major priority in Sweden’s forestry sector. This project would align well with Sweden’s goals of balancing forestry production with ecosystem conservation.\n",
    "\n",
    "### Keywords for Research:\n",
    "{Biodiversity in forestry, Forest health modeling, Impacts of logging on biodiversity, Statistical models for forest ecosystems, Conservation in managed forests}\n",
    "\n",
    "---"
   ]
  },
  {
   "cell_type": "markdown",
   "metadata": {},
   "source": [
    "## 5. Carbon Markets and Digital Forestry\n",
    "### What it is:\n",
    "This project explores how forests can generate income through carbon markets by sequestering carbon. We’ll work on using digital tools to measure how much carbon a forest stores and how that storage can be translated into carbon credits that can be traded.\n",
    "\n",
    "### What to look for:\n",
    "\n",
    "Data on carbon sequestration rates in forests.\n",
    "Tools for measuring and tracking carbon storage (e.g., remote sensing, satellite imagery).\n",
    "The functioning of carbon markets and how forest carbon credits are currently valued and traded.\n",
    "\n",
    "### Vision:\n",
    "We’ll develop a model that estimates how much carbon a particular forest can sequester, allowing the forest manager to generate carbon credits. These credits can be sold on carbon markets, providing financial incentives for forest conservation.\n",
    "\n",
    "### Connection to Sweden and Mistra Digital Forest:\n",
    "As part of Sweden’s strategy to combat climate change, forests are crucial in sequestering carbon. This project is a good fit for exploring how carbon credits can enhance forest profitability and sustainability.\n",
    "\n",
    "### Keywords for Research:\n",
    "{Carbon sequestration in forests, Carbon markets in forestry, Carbon credits and trading, Remote sensing for carbon measurement, Forest carbon offset projects}\n",
    "\n",
    "---"
   ]
  },
  {
   "cell_type": "markdown",
   "metadata": {},
   "source": [
    "## Where to Find Resources?\n",
    "\n",
    "- https://www.kth.se/en/biblioteket\n",
    "- https://www.diva-portal.org/smash/search.jsf?dswid=6093\n",
    "- https://scholar.google.com/\n",
    "- https://libris.kb.se/\n",
    "\n",
    "---"
   ]
  },
  {
   "cell_type": "markdown",
   "metadata": {},
   "source": [
    "## Dealine:\n",
    "\n",
    "Just a reminder that we need to have a skeleton of our report ready with some references by next week—25th of September at 10:00. This is for the kamratgranskning (peer review), which is obligatory.\n",
    "\n",
    "---"
   ]
  },
  {
   "cell_type": "markdown",
   "metadata": {},
   "source": [
    "## Extra:\n",
    "\n",
    "I’ve got an option for 1-2 extra tickets to a forestry conference happening in November, and thought you might be interested in joining:\n",
    "\n",
    "https://ui.ungpd.com/Events/5666e19a-558f-4764-ab27-d4faf8e2bc92?AccountId=77a86f9d-dc42-4c5e-8ea6-055ce8fde28b&ContactId=9a03c89d-61d1-4354-a26b-d676209e023a&IssueId=a661f2c3-5d85-4228-afbc-9cff99bc31b8&ir=a4bc1058-102f-4126-ba66-aec62ea87160"
   ]
  }
 ],
 "metadata": {
  "language_info": {
   "name": "python"
  }
 },
 "nbformat": 4,
 "nbformat_minor": 2
}
